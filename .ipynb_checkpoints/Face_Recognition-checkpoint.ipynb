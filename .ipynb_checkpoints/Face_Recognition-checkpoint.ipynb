{
 "cells": [
  {
   "cell_type": "code",
   "execution_count": 1,
   "id": "86db7224",
   "metadata": {},
   "outputs": [],
   "source": [
    "    #Welcome to my face recognition model\n",
    "    #lets get started by working on the known images\n",
    "    # 1. We need to Generate a dataset\n",
    "    # 2. We need to train the classifier and save it\n",
    "    # 3. We need to be able to detect and identify the face(s) if it exsists in our dataset"
   ]
  },
  {
   "cell_type": "markdown",
   "id": "66569585",
   "metadata": {},
   "source": [
    "# Collecting and Generating a Dataset"
   ]
  },
  {
   "cell_type": "code",
   "execution_count": 2,
   "id": "5e27509e",
   "metadata": {},
   "outputs": [],
   "source": [
    "import cv2"
   ]
  },
  {
   "cell_type": "code",
   "execution_count": 31,
   "id": "94187728",
   "metadata": {},
   "outputs": [
    {
     "name": "stderr",
     "output_type": "stream",
     "text": [
      "<>:9: SyntaxWarning: \"is\" with a literal. Did you mean \"==\"?\n",
      "<>:9: SyntaxWarning: \"is\" with a literal. Did you mean \"==\"?\n",
      "C:\\Users\\1mahe\\AppData\\Local\\Temp\\ipykernel_23748\\2910004308.py:9: SyntaxWarning: \"is\" with a literal. Did you mean \"==\"?\n",
      "  if faces is ():\n"
     ]
    },
    {
     "name": "stdout",
     "output_type": "stream",
     "text": [
      "Collecting Samples is Completed ... DONE\n"
     ]
    }
   ],
   "source": [
    "def generate_dataset():\n",
    "    face_classifier = cv2.CascadeClassifier(\"haarcascade_frontalface_default.xml\")\n",
    "    def face_crop(img):\n",
    "        gray = cv2.cvtColor(img,cv2.COLOR_BGR2GRAY)\n",
    "        faces = face_classifier.detectMultiScale(gray,1.3,5) \n",
    "        #Scaling Factor = 1.3\n",
    "        #Minimum Neighbor = 5  \n",
    "        \n",
    "        if faces is ():\n",
    "            return None\n",
    "        for(x,y,w,h) in faces:\n",
    "            cropped_face = img[y:y+h,x:x+w]\n",
    "        return cropped_face\n",
    "    cap = cv2.VideoCapture(0)\n",
    "    id=2\n",
    "    img_id=0\n",
    "    \n",
    "    while True:\n",
    "        ret,frame = cap.read()\n",
    "        if face_crop(frame) is not None:\n",
    "            img_id += 1\n",
    "            face = cv2.resize(face_crop(frame),(200,200))\n",
    "            face = cv2.cvtColor(face,cv2.COLOR_BGR2GRAY)\n",
    "            file_name_path = \"data/user.\"+str(id)+\".\"+str(img_id)+\".jpg\"\n",
    "            cv2.imwrite(file_name_path,face)\n",
    "            cv2.putText(face,str(img_id),(50,50),cv2.FONT_HERSHEY_COMPLEX,1,(0,255,0),2)\n",
    "            # (50,50 is the offset from where text is to be written)\n",
    "            # font scale = 1\n",
    "            # thickness = 2\n",
    "            \n",
    "            cv2.imshow(\"Cropped Face\",face)\n",
    "            if cv2.waitKey(1)==13 or int(img_id)==200:\n",
    "                break \n",
    "    cap.release()\n",
    "    cv2.destroyAllWindows()\n",
    "    print(\"Collecting Samples is Completed ... DONE\")\n",
    "generate_dataset()"
   ]
  },
  {
   "cell_type": "markdown",
   "id": "c4826b73",
   "metadata": {},
   "source": [
    "# Training the classifier and Saving it"
   ]
  },
  {
   "cell_type": "code",
   "execution_count": 4,
   "id": "b1d1469f",
   "metadata": {},
   "outputs": [],
   "source": [
    "import numpy as np\n",
    "from PIL import Image\n",
    "import os\n",
    "import cv2"
   ]
  },
  {
   "cell_type": "code",
   "execution_count": 32,
   "id": "983609c3",
   "metadata": {
    "scrolled": true
   },
   "outputs": [],
   "source": [
    "def train_classifier(data_dir):\n",
    "    path = [os.path.join(data_dir,f) for f in os.listdir(data_dir)]\n",
    "    faces = []\n",
    "    ids = []\n",
    "    \n",
    "    for image in path:\n",
    "        img = Image.open(image).convert('L');\n",
    "        imageNp = np.array(img,'uint8')\n",
    "        id = int(os.path.split(image)[1].split(\".\")[1])\n",
    "        \n",
    "        faces.append(imageNp)\n",
    "        ids.append(id)\n",
    "        \n",
    "    ids = np.array(ids)\n",
    "    \n",
    "    #Train the classifier and save \n",
    "    clf = cv2.face.LBPHFaceRecognizer_create()\n",
    "    clf.train(faces,ids)\n",
    "    clf.write(\"classifier.xml\")\n",
    "train_classifier(\"data\")"
   ]
  },
  {
   "cell_type": "markdown",
   "id": "88f2b1f0",
   "metadata": {},
   "source": [
    "# Detect the face and associate a name to it (if it's already stored in our dataset) "
   ]
  },
  {
   "cell_type": "code",
   "execution_count": null,
   "id": "6158d170",
   "metadata": {},
   "outputs": [],
   "source": [
    "import cv2\n",
    "import numpy as np\n",
    "from PIL import Image\n",
    "import os"
   ]
  },
  {
   "cell_type": "code",
   "execution_count": 33,
   "id": "6cc29c4d",
   "metadata": {},
   "outputs": [],
   "source": [
    "def draw_boundary(img,classifier,scaleFactor,minN,color,text,clf):\n",
    "    #minN = minNeighbors\n",
    "    g_img = cv2.cvtColor(img, cv2.COLOR_BGR2GRAY)\n",
    "    feats = classifier.detectMultiScale(g_img,scaleFactor,minN)\n",
    "    \n",
    "    coords = []\n",
    "    \n",
    "    for(x,y,w,h) in feats:\n",
    "        cv2.rectangle(img,(x,y),(x+w,y+h),color,2)\n",
    "        id,pred = clf.predict(g_img[y:y+h,x:x+w])\n",
    "        confidence = int(100*(1-pred/300))\n",
    "        \n",
    "        if confidence>77:\n",
    "            if id==1:\n",
    "                cv2.putText(img,\"Maher\",(x,y-5),cv2.FONT_HERSHEY_SIMPLEX,0.8,color,1,cv2.LINE_AA)\n",
    "            if id==2:\n",
    "                cv2.putText(img,\"Raja\",(x,y-5),cv2.FONT_HERSHEY_SIMPLEX,0.8,color,1,cv2.LINE_AA)\n",
    "        else:\n",
    "            cv2.putText(img,\"CHKOUN HADHA ?\",(x,y-5),cv2.FONT_HERSHEY_SIMPLEX,0.8,(0,0,255),1,cv2.LINE_AA)\n",
    "        coords = [x,y,w,h]\n",
    "    return coords\n",
    "\n",
    "def recognize(img,clf,faceCascade):\n",
    "    coords = draw_boundary(img,faceCascade,1.1,10,(255,255,255),\"Face\",clf)\n",
    "    return img\n",
    "\n",
    "faceCascade = cv2.CascadeClassifier(\"haarcascade_frontalface_default.xml\")\n",
    "clf = cv2.face.LBPHFaceRecognizer_create()\n",
    "clf.read(\"classifier.xml\")\n",
    "\n",
    "video_capture = cv2.VideoCapture(0)\n",
    "\n",
    "while True:\n",
    "    ret,img = video_capture.read()\n",
    "    img = recognize(img,clf,faceCascade)\n",
    "    cv2.imshow(\"Face Detection\",img)\n",
    "    \n",
    "    if cv2.waitKey(1)==13:\n",
    "        break\n",
    "video_capture.release()\n",
    "cv2.destroyAllWindows()"
   ]
  },
  {
   "cell_type": "code",
   "execution_count": null,
   "id": "17920ebc",
   "metadata": {},
   "outputs": [],
   "source": []
  }
 ],
 "metadata": {
  "kernelspec": {
   "display_name": "Python 3 (ipykernel)",
   "language": "python",
   "name": "python3"
  },
  "language_info": {
   "codemirror_mode": {
    "name": "ipython",
    "version": 3
   },
   "file_extension": ".py",
   "mimetype": "text/x-python",
   "name": "python",
   "nbconvert_exporter": "python",
   "pygments_lexer": "ipython3",
   "version": "3.10.9"
  }
 },
 "nbformat": 4,
 "nbformat_minor": 5
}
